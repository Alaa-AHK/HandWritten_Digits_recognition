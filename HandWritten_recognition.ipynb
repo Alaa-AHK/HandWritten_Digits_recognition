{
 "cells": [
  {
   "cell_type": "markdown",
   "metadata": {},
   "source": [
    "# **HandWritten Digit Recognition**\n",
    "## <u>Biological and Artificial Neurons</u>\n",
    "Biological neurons communicate using electrical impulses and neurotransmitters, forming complex, interconnected networks that process information.They  enable complex thought and learning.\n",
    "\n",
    "Artificial neurons, inspired by biological ones, use binary inputs and outputs to perform logical computations like AND, OR, and NOT operations.Ttey provide a simplified mathematical model for computational tasks."
   ]
  },
  {
   "cell_type": "markdown",
   "metadata": {},
   "source": [
    "### <u>The Perceptron</u>\n",
    "The Perceptron is a simple artificial neural network introduced by Frank Rosenblatt in 1957. It consists of threshold logic units (TLUs), where each unit computes a weighted sum of its inputs and applies a step function to determine the output:\n",
    "$$\n",
    "h_{W,b}(X) = \\phi (XW + b)\n",
    "$$\n",
    "- X: Input features.  \n",
    "- W: Weights matrix.  \n",
    "- b: Bias vector.  \n",
    "- ϕ: Activation function.  \n",
    "\n",
    "The Perceptron learning rule updates weights based on errors, inspired by Hebbian learning. The perceptron learning rule is:\n",
    "$$ w_{i,j}^{(t+1)} = w_{i,j}^{(t)} + \\eta (y_j - \\hat{y}_j)x_i $$\n",
    "However, it is limited to linearly separable problems, leading to the development of Multilayer Perceptrons (MLPs) for solving complex tasks like XOR classification.\n",
    "\n",
    "Perceptrons do not output probabilities, lack regularization, stop training early after zero errors, and may generalize worse than logistic regression or SVM, but they can train faster."
   ]
  },
  {
   "cell_type": "markdown",
   "metadata": {},
   "source": [
    "### <u>Multilayer Perceptron (MLP) and Backpropagation</u>\n",
    "\n",
    "**A Multilayer Perceptron (MLP)** is a type of artificial neural network composed of:\n",
    "- Input Layer: Takes the input features.\n",
    "- Hidden Layers: Contain neurons that process inputs using activation functions.\n",
    "- Output Layer: Produces the final prediction.\n",
    "\n",
    "**Backpropagation Algorithm**\n",
    "Backpropagation is the process of updating weights using gradient descent:\n",
    "1. Compute the weighted sum of inputs and apply an activation function.THEN Pass results to the next layer until reaching the output.\n",
    "2. Compare predicted output with actual values using a loss function.\n",
    "3. Compute the gradient of the loss with respect to each weight.THEN Adjust weights using gradient descent.\n",
    "\n",
    "**Common activation functions**:\n",
    "- **Sigmoid**: $\\sigma(z) = \\frac{1}{1 + e^{-z}}$ \n",
    "- **Tanh**: $\\tanh(z) = 2\\sigma(2z) - 1$ \n",
    "- **ReLU**: $ReLU(z) = \\max(0, z)$ \n",
    "\n",
    " "
   ]
  },
  {
   "cell_type": "markdown",
   "metadata": {},
   "source": [
    "### <u>Regression and Classification MLPs</u>\n",
    "\n",
    "**Number of Output Neurons**  \n",
    "- Regression: One neuron for a single value or multiple neurons for multi-output.  \n",
    "- Classification: One neuron for binary classification, multiple neurons for multiclass classification.\n",
    "\n",
    "**Activation Function in Output Layer**  \n",
    "- Regression: None , or ReLU/Sigmoid/Tanh if bounded output is needed.  \n",
    "- Classification: Sigmoid for binary classification, Softmax for multiclass classification.\n",
    "\n",
    "**Loss Function**  \n",
    "- Regression: MSE or Huber.  \n",
    "- Classification: log loss.\n",
    "\n",
    "**Output Interpretation**  \n",
    "- Regression: Direct numerical values.  \n",
    "- Classification: Probabilities (0-1 for sigmoid, class probabilities summing to 1 for softmax).\n"
   ]
  },
  {
   "cell_type": "markdown",
   "metadata": {},
   "source": [
    "## <u>Implementing MLPs with Keras</u>"
   ]
  },
  {
   "cell_type": "code",
   "execution_count": 39,
   "metadata": {},
   "outputs": [],
   "source": [
    "import tensorflow as tf"
   ]
  },
  {
   "cell_type": "code",
   "execution_count": 40,
   "metadata": {},
   "outputs": [],
   "source": [
    "# load the dataset\n",
    "mnist = tf.keras.datasets.mnist.load_data()"
   ]
  },
  {
   "cell_type": "code",
   "execution_count": 41,
   "metadata": {},
   "outputs": [],
   "source": [
    "# split dataset into train ,test sets\n",
    "(X_train_full, y_train_full), (X_test, y_test) = mnist\n",
    "X_train, y_train = X_train_full[:-5000], y_train_full[:-5000] # actual training\n",
    "X_valid, y_valid = X_train_full[-5000:], y_train_full[-5000:] # validation"
   ]
  },
  {
   "cell_type": "code",
   "execution_count": 42,
   "metadata": {},
   "outputs": [],
   "source": [
    "# scale pixel values between 0 and 1\n",
    "X_train, X_valid, X_test = X_train / 255.0, X_valid / 255., X_test / 255.0"
   ]
  },
  {
   "cell_type": "code",
   "execution_count": 43,
   "metadata": {},
   "outputs": [],
   "source": [
    "tf.random.set_seed(42) # set random seed to make the results reproducible\n",
    "\n",
    "# define a neural network with three layers\n",
    "model = tf.keras.Sequential([ \n",
    "tf.keras.layers.Flatten(input_shape=[28, 28]),          \n",
    "tf.keras.layers.Dense(300, activation=\"relu\"),          \n",
    "tf.keras.layers.Dense(100, activation=\"relu\"),  \n",
    "tf.keras.layers.Dense(10, activation=\"softmax\")         \n",
    " ])"
   ]
  },
  {
   "cell_type": "code",
   "execution_count": 44,
   "metadata": {},
   "outputs": [
    {
     "data": {
      "text/html": [
       "<pre style=\"white-space:pre;overflow-x:auto;line-height:normal;font-family:Menlo,'DejaVu Sans Mono',consolas,'Courier New',monospace\"><span style=\"font-weight: bold\">Model: \"sequential_4\"</span>\n",
       "</pre>\n"
      ],
      "text/plain": [
       "\u001b[1mModel: \"sequential_4\"\u001b[0m\n"
      ]
     },
     "metadata": {},
     "output_type": "display_data"
    },
    {
     "data": {
      "text/html": [
       "<pre style=\"white-space:pre;overflow-x:auto;line-height:normal;font-family:Menlo,'DejaVu Sans Mono',consolas,'Courier New',monospace\">┏━━━━━━━━━━━━━━━━━━━━━━━━━━━━━━━━━┳━━━━━━━━━━━━━━━━━━━━━━━━┳━━━━━━━━━━━━━━━┓\n",
       "┃<span style=\"font-weight: bold\"> Layer (type)                    </span>┃<span style=\"font-weight: bold\"> Output Shape           </span>┃<span style=\"font-weight: bold\">       Param # </span>┃\n",
       "┡━━━━━━━━━━━━━━━━━━━━━━━━━━━━━━━━━╇━━━━━━━━━━━━━━━━━━━━━━━━╇━━━━━━━━━━━━━━━┩\n",
       "│ flatten_4 (<span style=\"color: #0087ff; text-decoration-color: #0087ff\">Flatten</span>)             │ (<span style=\"color: #00d7ff; text-decoration-color: #00d7ff\">None</span>, <span style=\"color: #00af00; text-decoration-color: #00af00\">784</span>)            │             <span style=\"color: #00af00; text-decoration-color: #00af00\">0</span> │\n",
       "├─────────────────────────────────┼────────────────────────┼───────────────┤\n",
       "│ dense_12 (<span style=\"color: #0087ff; text-decoration-color: #0087ff\">Dense</span>)                │ (<span style=\"color: #00d7ff; text-decoration-color: #00d7ff\">None</span>, <span style=\"color: #00af00; text-decoration-color: #00af00\">300</span>)            │       <span style=\"color: #00af00; text-decoration-color: #00af00\">235,500</span> │\n",
       "├─────────────────────────────────┼────────────────────────┼───────────────┤\n",
       "│ dense_13 (<span style=\"color: #0087ff; text-decoration-color: #0087ff\">Dense</span>)                │ (<span style=\"color: #00d7ff; text-decoration-color: #00d7ff\">None</span>, <span style=\"color: #00af00; text-decoration-color: #00af00\">100</span>)            │        <span style=\"color: #00af00; text-decoration-color: #00af00\">30,100</span> │\n",
       "├─────────────────────────────────┼────────────────────────┼───────────────┤\n",
       "│ dense_14 (<span style=\"color: #0087ff; text-decoration-color: #0087ff\">Dense</span>)                │ (<span style=\"color: #00d7ff; text-decoration-color: #00d7ff\">None</span>, <span style=\"color: #00af00; text-decoration-color: #00af00\">10</span>)             │         <span style=\"color: #00af00; text-decoration-color: #00af00\">1,010</span> │\n",
       "└─────────────────────────────────┴────────────────────────┴───────────────┘\n",
       "</pre>\n"
      ],
      "text/plain": [
       "┏━━━━━━━━━━━━━━━━━━━━━━━━━━━━━━━━━┳━━━━━━━━━━━━━━━━━━━━━━━━┳━━━━━━━━━━━━━━━┓\n",
       "┃\u001b[1m \u001b[0m\u001b[1mLayer (type)                   \u001b[0m\u001b[1m \u001b[0m┃\u001b[1m \u001b[0m\u001b[1mOutput Shape          \u001b[0m\u001b[1m \u001b[0m┃\u001b[1m \u001b[0m\u001b[1m      Param #\u001b[0m\u001b[1m \u001b[0m┃\n",
       "┡━━━━━━━━━━━━━━━━━━━━━━━━━━━━━━━━━╇━━━━━━━━━━━━━━━━━━━━━━━━╇━━━━━━━━━━━━━━━┩\n",
       "│ flatten_4 (\u001b[38;5;33mFlatten\u001b[0m)             │ (\u001b[38;5;45mNone\u001b[0m, \u001b[38;5;34m784\u001b[0m)            │             \u001b[38;5;34m0\u001b[0m │\n",
       "├─────────────────────────────────┼────────────────────────┼───────────────┤\n",
       "│ dense_12 (\u001b[38;5;33mDense\u001b[0m)                │ (\u001b[38;5;45mNone\u001b[0m, \u001b[38;5;34m300\u001b[0m)            │       \u001b[38;5;34m235,500\u001b[0m │\n",
       "├─────────────────────────────────┼────────────────────────┼───────────────┤\n",
       "│ dense_13 (\u001b[38;5;33mDense\u001b[0m)                │ (\u001b[38;5;45mNone\u001b[0m, \u001b[38;5;34m100\u001b[0m)            │        \u001b[38;5;34m30,100\u001b[0m │\n",
       "├─────────────────────────────────┼────────────────────────┼───────────────┤\n",
       "│ dense_14 (\u001b[38;5;33mDense\u001b[0m)                │ (\u001b[38;5;45mNone\u001b[0m, \u001b[38;5;34m10\u001b[0m)             │         \u001b[38;5;34m1,010\u001b[0m │\n",
       "└─────────────────────────────────┴────────────────────────┴───────────────┘\n"
      ]
     },
     "metadata": {},
     "output_type": "display_data"
    },
    {
     "data": {
      "text/html": [
       "<pre style=\"white-space:pre;overflow-x:auto;line-height:normal;font-family:Menlo,'DejaVu Sans Mono',consolas,'Courier New',monospace\"><span style=\"font-weight: bold\"> Total params: </span><span style=\"color: #00af00; text-decoration-color: #00af00\">266,610</span> (1.02 MB)\n",
       "</pre>\n"
      ],
      "text/plain": [
       "\u001b[1m Total params: \u001b[0m\u001b[38;5;34m266,610\u001b[0m (1.02 MB)\n"
      ]
     },
     "metadata": {},
     "output_type": "display_data"
    },
    {
     "data": {
      "text/html": [
       "<pre style=\"white-space:pre;overflow-x:auto;line-height:normal;font-family:Menlo,'DejaVu Sans Mono',consolas,'Courier New',monospace\"><span style=\"font-weight: bold\"> Trainable params: </span><span style=\"color: #00af00; text-decoration-color: #00af00\">266,610</span> (1.02 MB)\n",
       "</pre>\n"
      ],
      "text/plain": [
       "\u001b[1m Trainable params: \u001b[0m\u001b[38;5;34m266,610\u001b[0m (1.02 MB)\n"
      ]
     },
     "metadata": {},
     "output_type": "display_data"
    },
    {
     "data": {
      "text/html": [
       "<pre style=\"white-space:pre;overflow-x:auto;line-height:normal;font-family:Menlo,'DejaVu Sans Mono',consolas,'Courier New',monospace\"><span style=\"font-weight: bold\"> Non-trainable params: </span><span style=\"color: #00af00; text-decoration-color: #00af00\">0</span> (0.00 B)\n",
       "</pre>\n"
      ],
      "text/plain": [
       "\u001b[1m Non-trainable params: \u001b[0m\u001b[38;5;34m0\u001b[0m (0.00 B)\n"
      ]
     },
     "metadata": {},
     "output_type": "display_data"
    }
   ],
   "source": [
    "# display all the model’s layers\n",
    "model.summary()"
   ]
  },
  {
   "cell_type": "code",
   "execution_count": 45,
   "metadata": {},
   "outputs": [],
   "source": [
    "# configuring the model (loss function , optimizer and tracking )\n",
    "model.compile(loss=\"sparse_categorical_crossentropy\", \n",
    "optimizer=\"sgd\",                                        \n",
    "metrics=[\"accuracy\"])                                  "
   ]
  },
  {
   "cell_type": "code",
   "execution_count": 58,
   "metadata": {},
   "outputs": [
    {
     "name": "stdout",
     "output_type": "stream",
     "text": [
      "Epoch 1/15\n",
      "\u001b[1m1719/1719\u001b[0m \u001b[32m━━━━━━━━━━━━━━━━━━━━\u001b[0m\u001b[37m\u001b[0m \u001b[1m25s\u001b[0m 15ms/step - accuracy: 0.9724 - loss: 0.0994 - val_accuracy: 0.9738 - val_loss: 0.0935\n",
      "Epoch 2/15\n",
      "\u001b[1m1719/1719\u001b[0m \u001b[32m━━━━━━━━━━━━━━━━━━━━\u001b[0m\u001b[37m\u001b[0m \u001b[1m22s\u001b[0m 13ms/step - accuracy: 0.9741 - loss: 0.0918 - val_accuracy: 0.9734 - val_loss: 0.0901\n",
      "Epoch 3/15\n",
      "\u001b[1m1719/1719\u001b[0m \u001b[32m━━━━━━━━━━━━━━━━━━━━\u001b[0m\u001b[37m\u001b[0m \u001b[1m7s\u001b[0m 4ms/step - accuracy: 0.9763 - loss: 0.0850 - val_accuracy: 0.9742 - val_loss: 0.0873\n",
      "Epoch 4/15\n",
      "\u001b[1m1719/1719\u001b[0m \u001b[32m━━━━━━━━━━━━━━━━━━━━\u001b[0m\u001b[37m\u001b[0m \u001b[1m6s\u001b[0m 4ms/step - accuracy: 0.9781 - loss: 0.0789 - val_accuracy: 0.9750 - val_loss: 0.0848\n",
      "Epoch 5/15\n",
      "\u001b[1m1719/1719\u001b[0m \u001b[32m━━━━━━━━━━━━━━━━━━━━\u001b[0m\u001b[37m\u001b[0m \u001b[1m6s\u001b[0m 4ms/step - accuracy: 0.9796 - loss: 0.0734 - val_accuracy: 0.9750 - val_loss: 0.0827\n",
      "Epoch 6/15\n",
      "\u001b[1m1719/1719\u001b[0m \u001b[32m━━━━━━━━━━━━━━━━━━━━\u001b[0m\u001b[37m\u001b[0m \u001b[1m9s\u001b[0m 5ms/step - accuracy: 0.9810 - loss: 0.0684 - val_accuracy: 0.9756 - val_loss: 0.0809\n",
      "Epoch 7/15\n",
      "\u001b[1m1719/1719\u001b[0m \u001b[32m━━━━━━━━━━━━━━━━━━━━\u001b[0m\u001b[37m\u001b[0m \u001b[1m1007s\u001b[0m 586ms/step - accuracy: 0.9825 - loss: 0.0639 - val_accuracy: 0.9762 - val_loss: 0.0792\n",
      "Epoch 8/15\n",
      "\u001b[1m1719/1719\u001b[0m \u001b[32m━━━━━━━━━━━━━━━━━━━━\u001b[0m\u001b[37m\u001b[0m \u001b[1m6s\u001b[0m 4ms/step - accuracy: 0.9840 - loss: 0.0598 - val_accuracy: 0.9768 - val_loss: 0.0779\n",
      "Epoch 9/15\n",
      "\u001b[1m1719/1719\u001b[0m \u001b[32m━━━━━━━━━━━━━━━━━━━━\u001b[0m\u001b[37m\u001b[0m \u001b[1m7s\u001b[0m 4ms/step - accuracy: 0.9851 - loss: 0.0560 - val_accuracy: 0.9772 - val_loss: 0.0767\n",
      "Epoch 10/15\n",
      "\u001b[1m1719/1719\u001b[0m \u001b[32m━━━━━━━━━━━━━━━━━━━━\u001b[0m\u001b[37m\u001b[0m \u001b[1m5s\u001b[0m 3ms/step - accuracy: 0.9864 - loss: 0.0526 - val_accuracy: 0.9776 - val_loss: 0.0757\n",
      "Epoch 11/15\n",
      "\u001b[1m1719/1719\u001b[0m \u001b[32m━━━━━━━━━━━━━━━━━━━━\u001b[0m\u001b[37m\u001b[0m \u001b[1m5s\u001b[0m 3ms/step - accuracy: 0.9878 - loss: 0.0494 - val_accuracy: 0.9778 - val_loss: 0.0749\n",
      "Epoch 12/15\n",
      "\u001b[1m1719/1719\u001b[0m \u001b[32m━━━━━━━━━━━━━━━━━━━━\u001b[0m\u001b[37m\u001b[0m \u001b[1m5s\u001b[0m 3ms/step - accuracy: 0.9887 - loss: 0.0464 - val_accuracy: 0.9782 - val_loss: 0.0742\n",
      "Epoch 13/15\n",
      "\u001b[1m1719/1719\u001b[0m \u001b[32m━━━━━━━━━━━━━━━━━━━━\u001b[0m\u001b[37m\u001b[0m \u001b[1m4s\u001b[0m 2ms/step - accuracy: 0.9894 - loss: 0.0437 - val_accuracy: 0.9786 - val_loss: 0.0737\n",
      "Epoch 14/15\n",
      "\u001b[1m1719/1719\u001b[0m \u001b[32m━━━━━━━━━━━━━━━━━━━━\u001b[0m\u001b[37m\u001b[0m \u001b[1m4s\u001b[0m 3ms/step - accuracy: 0.9904 - loss: 0.0412 - val_accuracy: 0.9788 - val_loss: 0.0734\n",
      "Epoch 15/15\n",
      "\u001b[1m1719/1719\u001b[0m \u001b[32m━━━━━━━━━━━━━━━━━━━━\u001b[0m\u001b[37m\u001b[0m \u001b[1m5s\u001b[0m 3ms/step - accuracy: 0.9912 - loss: 0.0388 - val_accuracy: 0.9792 - val_loss: 0.0732\n"
     ]
    }
   ],
   "source": [
    "# Train dataset for 10 iterations\n",
    "history = model.fit(X_train, y_train, epochs=15,validation_data=(X_valid, y_valid))"
   ]
  },
  {
   "cell_type": "code",
   "execution_count": 48,
   "metadata": {},
   "outputs": [
    {
     "data": {
      "image/png": "[encoded data removed]",
      "text/plain": [
       "<Figure size 800x500 with 1 Axes>"
      ]
     },
     "metadata": {},
     "output_type": "display_data"
    }
   ],
   "source": [
    "# analyze training performance\n",
    "import matplotlib.pyplot as plt\n",
    "import pandas as pd \n",
    "pd.DataFrame(history.history).plot(figsize=(8, 5), xlim=[0, 9], ylim=[0, 1], grid=True ,style=[\"r--\", \"r--.\", \"b-\", \"b-*\"])\n",
    "plt.show()"
   ]
  },
  {
   "cell_type": "code",
   "execution_count": 59,
   "metadata": {},
   "outputs": [
    {
     "name": "stdout",
     "output_type": "stream",
     "text": [
      "\u001b[1m313/313\u001b[0m \u001b[32m━━━━━━━━━━━━━━━━━━━━\u001b[0m\u001b[37m\u001b[0m \u001b[1m1s\u001b[0m 2ms/step - accuracy: 0.9733 - loss: 0.0884\n",
      "Test accuracy: 0.98\n"
     ]
    }
   ],
   "source": [
    "loss , acc = model.evaluate(X_test, y_test)\n",
    "print(f\"Test accuracy: {acc:.2f}\")"
   ]
  },
  {
   "cell_type": "code",
   "execution_count": 60,
   "metadata": {},
   "outputs": [
    {
     "name": "stdout",
     "output_type": "stream",
     "text": [
      "\u001b[1m1/1\u001b[0m \u001b[32m━━━━━━━━━━━━━━━━━━━━\u001b[0m\u001b[37m\u001b[0m \u001b[1m0s\u001b[0m 44ms/step\n",
      "[[6.4093520e-06 5.7912592e-07 4.9289283e-05 9.4758481e-04 1.3446608e-09\n",
      "  5.3160493e-06 1.3151600e-11 9.9895906e-01 4.7386875e-06 2.6922458e-05]\n",
      " [5.8035084e-07 8.7709210e-05 9.9980778e-01 9.8465251e-05 2.0884709e-10\n",
      "  2.1819651e-06 1.8605494e-06 1.0750855e-10 1.4949820e-06 1.5939803e-12]\n",
      " [8.9156156e-06 9.9611878e-01 1.0128804e-03 9.3524053e-05 3.0428922e-04\n",
      "  1.1392046e-04 2.5799198e-05 1.2204964e-03 1.0802165e-03 2.1232470e-05]]\n"
     ]
    }
   ],
   "source": [
    "X_new = X_test[:3]\n",
    "y_proba = model.predict(X_new)\n",
    "print (y_proba) "
   ]
  },
  {
   "cell_type": "code",
   "execution_count": 57,
   "metadata": {},
   "outputs": [
    {
     "name": "stdout",
     "output_type": "stream",
     "text": [
      "[7 2 1]\n"
     ]
    }
   ],
   "source": [
    "import numpy as np\n",
    "y_pred = y_proba.argmax(axis=-1)\n",
    "print(y_pred)"
   ]
  }
 ],
 "metadata": {
  "kernelspec": {
   "display_name": "workshop_env",
   "language": "python",
   "name": "python3"
  },
  "language_info": {
   "codemirror_mode": {
    "name": "ipython",
    "version": 3
   },
   "file_extension": ".py",
   "mimetype": "text/x-python",
   "name": "python",
   "nbconvert_exporter": "python",
   "pygments_lexer": "ipython3",
   "version": "3.10.15"
  }
 },
 "nbformat": 4,
 "nbformat_minor": 2
}
